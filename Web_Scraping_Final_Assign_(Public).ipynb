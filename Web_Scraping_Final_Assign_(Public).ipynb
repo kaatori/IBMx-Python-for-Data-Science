{
  "nbformat": 4,
  "nbformat_minor": 0,
  "metadata": {
    "colab": {
      "name": "Web_Scraping_Final_Assign_(Public).ipynb",
      "provenance": [],
      "collapsed_sections": [],
      "authorship_tag": "ABX9TyNt0WXS+JbJXu4n0TKDuDRR",
      "include_colab_link": true
    },
    "kernelspec": {
      "name": "python3",
      "display_name": "Python 3"
    }
  },
  "cells": [
    {
      "cell_type": "markdown",
      "metadata": {
        "id": "view-in-github",
        "colab_type": "text"
      },
      "source": [
        "<a href=\"https://colab.research.google.com/github/kaatori/IBMx-Python-for-Data-Science/blob/master/Web_Scraping_Final_Assign_(Public).ipynb\" target=\"_parent\"><img src=\"https://colab.research.google.com/assets/colab-badge.svg\" alt=\"Open In Colab\"/></a>"
      ]
    },
    {
      "cell_type": "markdown",
      "metadata": {
        "id": "66Oc7PKi9c7d"
      },
      "source": [
        "# This notebook illustrates my final assignment of scraping webpages as part of the course titled \"Python Basics for Data Science\" by IBMx via edX.org. \n",
        "\n",
        "In this final assignment, the goals were to:\n",
        "\n",
        "1. Access website data stored within tables using a web scraper function in Python;\n",
        "2. Translate the data into a dataframe; \n",
        "3. Store the newly-scraped data as `.csv` files;\n",
        "4. Graph/visualize the data;\n",
        "5. Analyze the data for trends or connections to create meaning/value for a chosen audience. \n",
        "\n",
        "Author: K.C. Sperow \n",
        "\n",
        "Course: IBMx \"Python Basics for Data Science\" via edX.org\n",
        "\n",
        "Course Completion Date: September 2020\n",
        "\n",
        "Revised: November 2020"
      ]
    },
    {
      "cell_type": "code",
      "metadata": {
        "id": "We2fz40Aj6hx",
        "colab": {
          "base_uri": "https://localhost:8080/"
        },
        "outputId": "ffa264ec-d390-4497-91d9-20d0b8bb5fe8"
      },
      "source": [
        "# Check package requirements in Google Colaboratory:\n",
        "# These packages are needed: BeautifulSoup4, Requests, Boto3, Pandas, and Numpy.\n",
        "\n",
        "!pip show bs4"
      ],
      "execution_count": null,
      "outputs": [
        {
          "output_type": "stream",
          "text": [
            "Name: bs4\n",
            "Version: 0.0.1\n",
            "Summary: Screen-scraping library\n",
            "Home-page: https://pypi.python.org/pypi/beautifulsoup4\n",
            "Author: Leonard Richardson\n",
            "Author-email: leonardr@segfault.org\n",
            "License: MIT\n",
            "Location: /usr/local/lib/python3.6/dist-packages\n",
            "Requires: beautifulsoup4\n",
            "Required-by: \n"
          ],
          "name": "stdout"
        }
      ]
    },
    {
      "cell_type": "code",
      "metadata": {
        "id": "5WJ9ywXVkDHI",
        "colab": {
          "base_uri": "https://localhost:8080/"
        },
        "outputId": "d59940e7-2e58-4ef9-cb57-7785a8abeb57"
      },
      "source": [
        "!pip show requests"
      ],
      "execution_count": null,
      "outputs": [
        {
          "output_type": "stream",
          "text": [
            "Name: requests\n",
            "Version: 2.23.0\n",
            "Summary: Python HTTP for Humans.\n",
            "Home-page: https://requests.readthedocs.io\n",
            "Author: Kenneth Reitz\n",
            "Author-email: me@kennethreitz.org\n",
            "License: Apache 2.0\n",
            "Location: /usr/local/lib/python3.6/dist-packages\n",
            "Requires: idna, certifi, urllib3, chardet\n",
            "Required-by: tweepy, torchtext, tensorflow-datasets, tensorboard, Sphinx, spacy, smart-open, requests-oauthlib, pymystem3, pandas-datareader, kaggle, gspread, google-colab, google-api-core, gdown, folium, fix-yahoo-finance, fastai, coveralls, community, CacheControl\n"
          ],
          "name": "stdout"
        }
      ]
    },
    {
      "cell_type": "code",
      "metadata": {
        "id": "40OwyK82iOc8",
        "colab": {
          "base_uri": "https://localhost:8080/"
        },
        "outputId": "227c7598-540c-46c5-c8b2-11c72eb7bfc4"
      },
      "source": [
        "# Install library packages:\n",
        "\n",
        "pip install boto3"
      ],
      "execution_count": null,
      "outputs": [
        {
          "output_type": "stream",
          "text": [
            "Requirement already satisfied: boto3 in /usr/local/lib/python3.6/dist-packages (1.16.19)\n",
            "Requirement already satisfied: s3transfer<0.4.0,>=0.3.0 in /usr/local/lib/python3.6/dist-packages (from boto3) (0.3.3)\n",
            "Requirement already satisfied: botocore<1.20.0,>=1.19.19 in /usr/local/lib/python3.6/dist-packages (from boto3) (1.19.19)\n",
            "Requirement already satisfied: jmespath<1.0.0,>=0.7.1 in /usr/local/lib/python3.6/dist-packages (from boto3) (0.10.0)\n",
            "Requirement already satisfied: urllib3<1.27,>=1.25.4; python_version != \"3.4\" in /usr/local/lib/python3.6/dist-packages (from botocore<1.20.0,>=1.19.19->boto3) (1.26.2)\n",
            "Requirement already satisfied: python-dateutil<3.0.0,>=2.1 in /usr/local/lib/python3.6/dist-packages (from botocore<1.20.0,>=1.19.19->boto3) (2.8.1)\n",
            "Requirement already satisfied: six>=1.5 in /usr/local/lib/python3.6/dist-packages (from python-dateutil<3.0.0,>=2.1->botocore<1.20.0,>=1.19.19->boto3) (1.15.0)\n"
          ],
          "name": "stdout"
        }
      ]
    },
    {
      "cell_type": "code",
      "metadata": {
        "id": "-ZZ45jjwio_1",
        "colab": {
          "base_uri": "https://localhost:8080/"
        },
        "outputId": "849a2e17-df25-4708-f910-55db1cae95ff"
      },
      "source": [
        "# Install dependency package for boto3:\n",
        "\n",
        "pip install urllib3"
      ],
      "execution_count": null,
      "outputs": [
        {
          "output_type": "stream",
          "text": [
            "Requirement already satisfied: urllib3 in /usr/local/lib/python3.6/dist-packages (1.26.2)\n"
          ],
          "name": "stdout"
        }
      ]
    },
    {
      "cell_type": "code",
      "metadata": {
        "id": "-K17PzQNktk2",
        "colab": {
          "base_uri": "https://localhost:8080/"
        },
        "outputId": "f3172e5f-b3e7-41f0-9d92-a4147139fbe7"
      },
      "source": [
        "!pip show pandas"
      ],
      "execution_count": null,
      "outputs": [
        {
          "output_type": "stream",
          "text": [
            "Name: pandas\n",
            "Version: 1.1.4\n",
            "Summary: Powerful data structures for data analysis, time series, and statistics\n",
            "Home-page: https://pandas.pydata.org\n",
            "Author: None\n",
            "Author-email: None\n",
            "License: BSD\n",
            "Location: /usr/local/lib/python3.6/dist-packages\n",
            "Requires: numpy, pytz, python-dateutil\n",
            "Required-by: xarray, vega-datasets, statsmodels, sklearn-pandas, seaborn, pymc3, plotnine, pandas-profiling, pandas-gbq, pandas-datareader, mlxtend, mizani, holoviews, gspread-dataframe, google-colab, fix-yahoo-finance, fbprophet, fastai, cufflinks, cmdstanpy, altair\n"
          ],
          "name": "stdout"
        }
      ]
    },
    {
      "cell_type": "code",
      "metadata": {
        "id": "eXEEv4aPkwQR",
        "colab": {
          "base_uri": "https://localhost:8080/"
        },
        "outputId": "a4e6148e-74a5-4484-a56c-cd549fc597ca"
      },
      "source": [
        "!pip show numpy"
      ],
      "execution_count": null,
      "outputs": [
        {
          "output_type": "stream",
          "text": [
            "Name: numpy\n",
            "Version: 1.18.5\n",
            "Summary: NumPy is the fundamental package for array computing with Python.\n",
            "Home-page: https://www.numpy.org\n",
            "Author: Travis E. Oliphant et al.\n",
            "Author-email: None\n",
            "License: BSD\n",
            "Location: /usr/local/lib/python3.6/dist-packages\n",
            "Requires: \n",
            "Required-by: yellowbrick, xgboost, xarray, wordcloud, umap-learn, torchvision, torchtext, torch, tifffile, thinc, Theano, tensorflow, tensorflow-probability, tensorflow-hub, tensorflow-datasets, tensorboard, tables, statsmodels, spacy, sklearn-pandas, seaborn, scs, scipy, scikit-learn, resampy, PyWavelets, python-louvain, pystan, pysndfile, pymc3, pyemd, pyarrow, plotnine, patsy, pandas, osqp, opt-einsum, opencv-python, opencv-contrib-python, numexpr, numba, np-utils, nibabel, moviepy, mlxtend, mizani, missingno, matplotlib, matplotlib-venn, lucid, lightgbm, librosa, knnimpute, Keras, Keras-Preprocessing, kapre, jpeg4py, jaxlib, jax, imgaug, imbalanced-learn, imageio, hyperopt, holoviews, h5py, gym, gensim, folium, fix-yahoo-finance, fbprophet, fastprogress, fastdtw, fastai, fancyimpute, fa2, ecos, daft, cvxpy, cufflinks, cmdstanpy, chainer, Bottleneck, bokeh, blis, autograd, atari-py, astropy, altair, albumentations\n"
          ],
          "name": "stdout"
        }
      ]
    },
    {
      "cell_type": "code",
      "metadata": {
        "id": "OWFr9Y5Advqb",
        "colab": {
          "base_uri": "https://localhost:8080/",
          "height": 346
        },
        "outputId": "b3814c2b-c813-404d-beab-47e6e182c1c9"
      },
      "source": [
        "# Import the necessary libraries:\n",
        "# Beautiful Soup (bs4) is used to scrape webpages: https://pypi.org/project/beautifulsoup4/\n",
        "# Requests is used in conjunction with Beautiful Soup to parse HTML code: https://requests.readthedocs.io/en/master/\n",
        "# Pandas is the dataframe analysis library in Python: https://pandas.pydata.org/docs/\n",
        "# Numpy is for analyzing the dataframe using vectors and arrays: https://numpy.org/doc/\n",
        "# Boto3 is the low-level access API for Amazon Web Services servers in order to make requests for data transfers: https://boto3.amazonaws.com/v1/documentation/api/latest/index.html\n",
        "\n",
        "import bs4\n",
        "import requests\n",
        "import pandas as pd\n",
        "import numpy as np\n",
        "import boto3"
      ],
      "execution_count": 2,
      "outputs": [
        {
          "output_type": "error",
          "ename": "ModuleNotFoundError",
          "evalue": "ignored",
          "traceback": [
            "\u001b[0;31m---------------------------------------------------------------------------\u001b[0m",
            "\u001b[0;31mModuleNotFoundError\u001b[0m                       Traceback (most recent call last)",
            "\u001b[0;32m<ipython-input-2-1f73e2a7ffa5>\u001b[0m in \u001b[0;36m<module>\u001b[0;34m()\u001b[0m\n\u001b[1;32m     10\u001b[0m \u001b[0;32mimport\u001b[0m \u001b[0mpandas\u001b[0m \u001b[0;32mas\u001b[0m \u001b[0mpd\u001b[0m\u001b[0;34m\u001b[0m\u001b[0;34m\u001b[0m\u001b[0m\n\u001b[1;32m     11\u001b[0m \u001b[0;32mimport\u001b[0m \u001b[0mnumpy\u001b[0m \u001b[0;32mas\u001b[0m \u001b[0mnp\u001b[0m\u001b[0;34m\u001b[0m\u001b[0;34m\u001b[0m\u001b[0m\n\u001b[0;32m---> 12\u001b[0;31m \u001b[0;32mimport\u001b[0m \u001b[0mboto3\u001b[0m\u001b[0;34m\u001b[0m\u001b[0;34m\u001b[0m\u001b[0m\n\u001b[0m",
            "\u001b[0;31mModuleNotFoundError\u001b[0m: No module named 'boto3'",
            "",
            "\u001b[0;31m---------------------------------------------------------------------------\u001b[0;32m\nNOTE: If your import is failing due to a missing package, you can\nmanually install dependencies using either !pip or !apt.\n\nTo view examples of installing some common dependencies, click the\n\"Open Examples\" button below.\n\u001b[0;31m---------------------------------------------------------------------------\u001b[0m\n"
          ]
        }
      ]
    },
    {
      "cell_type": "code",
      "metadata": {
        "id": "YQE_TC-ndyAK"
      },
      "source": [
        "def get_basketball_stats(link='https://en.wikipedia.org/wiki/Michael_Jordan'):\n",
        "    # This function was the only part given by the course for this project \n",
        "    # in order for students to focus on the analysis process. \n",
        "    # K.C. Sperow added, edited, and refined a great deal of the comments to explain how\n",
        "    # this function works step-by-step because very little of the function was explained\n",
        "    # by the course authors.\n",
        "\n",
        "    # Create an object to store the response from sending a request \n",
        "    # to the webpage to be scraped.\n",
        "    response = requests.get(link)\n",
        "\n",
        "    # Create a BeautifulSoup object to parse the HTML from that response.  \n",
        "    soup = bs4.BeautifulSoup(response.text, 'html.parser')\n",
        "\n",
        "    # The player stats are defined with the attribute CSS class set to \n",
        "    # 'wikitable sortable'; therefore, create a tag object \"table\"\n",
        "    # in order to pick out only the info needed found in the tables.\n",
        "    # Create an object in order to store the table info.\n",
        "    table=soup.find(class_='wikitable sortable')\n",
        "\n",
        "    # The headers of the table are the first table row ('tr');\n",
        "    # and it is necessary to create a tag object that has the first row.  \n",
        "    headers=table.tr\n",
        "\n",
        "    # The table column names are displayed as an abbreviation; \n",
        "    # therefore, find all the 'abbr' tags and store them in the object 'titles'.\n",
        "    titles=headers.find_all(\"abbr\")\n",
        "\n",
        "    # Create a dictionary where the key value pairs will be each \n",
        "    # table header (key) and each column as a list (value). \n",
        "    data = {title['title']:[] for title in titles}\n",
        "\n",
        "    # Using a 'for' loop, iterate over each table row by finding each \n",
        "    # table tag 'tr' and assigning it to the object 'data'.\n",
        "    for row in table.find_all('tr')[1:]:\n",
        "    \n",
        "        # Iterate over each cell in the row. \n",
        "        # As each cell corresponds to a different column, obtain all of the \n",
        "        # corresponding keys that go with the columns.\n",
        "        for key,a in zip(data.keys(),row.find_all(\"td\")[2:]):\n",
        "            # Append each element and strip any extra HTML content. \n",
        "            data[key].append(''.join(c for c in a.text if (c.isdigit() or c == \".\")))\n",
        "\n",
        "    # Remove extra rows by finding the smallest list.     \n",
        "    Min=min([len(x)  for x in data.values()])\n",
        "\n",
        "    # Convert the elements in the key to floats. \n",
        "    for key in data.keys():\n",
        "        data[key]=list(map(lambda x: float(x), data[key][:Min]))\n",
        "    return data"
      ],
      "execution_count": 3,
      "outputs": []
    },
    {
      "cell_type": "code",
      "metadata": {
        "id": "znRX1WqAO2Mi"
      },
      "source": [
        "# Create a list object to hold each link to each player's wiki page.\n",
        "links=['https://en.wikipedia.org/wiki/Michael_Jordan'\\\n",
        "       ,'https://en.wikipedia.org/wiki/Kobe_Bryant'\\\n",
        "      ,'https://en.wikipedia.org/wiki/LeBron_James'\\\n",
        "      ,'https://en.wikipedia.org/wiki/Stephen_Curry']\n",
        "\n",
        "\n",
        "# Create another list object to hold the player names.      \n",
        "names=['Michael Jordan','Kobe Bryant','Lebron James','Stephen Curry']"
      ],
      "execution_count": 4,
      "outputs": []
    },
    {
      "cell_type": "code",
      "metadata": {
        "id": "upTkSAyJO6JB"
      },
      "source": [
        "# The course authors had previously taught two ways to get the stats for each of the four (4) players:\n",
        "# One can either pass the fill link into the function,\n",
        "# or one can pass the index of each link in the list object 'links' into the function.\n",
        "\n",
        "# michael_jordan_dict = get_basketball_stats('https://en.wikipedia.org/wiki/Michael_Jordan')\n",
        "# OR\n",
        "# michael_jordan_dict = get_basketball_stats(links[0])\n"
      ],
      "execution_count": 5,
      "outputs": []
    },
    {
      "cell_type": "code",
      "metadata": {
        "id": "6tU9q_vbPLis",
        "colab": {
          "base_uri": "https://localhost:8080/"
        },
        "outputId": "337f4dcf-5cf8-4420-e3b2-13abc045bce4"
      },
      "source": [
        "# Call the function above and pass in the '0' index from the 'links' object.\n",
        "michael_jordan_dict=get_basketball_stats(links[0])\n",
        "\n",
        "# Display the results.\n",
        "michael_jordan_dict\n"
      ],
      "execution_count": 6,
      "outputs": [
        {
          "output_type": "execute_result",
          "data": {
            "text/plain": [
              "{'3-point field-goal percentage': [0.173,\n",
              "  0.167,\n",
              "  0.182,\n",
              "  0.132,\n",
              "  0.276,\n",
              "  0.376,\n",
              "  0.312,\n",
              "  0.27,\n",
              "  0.352,\n",
              "  0.5,\n",
              "  0.427,\n",
              "  0.374,\n",
              "  0.238,\n",
              "  0.189,\n",
              "  0.291],\n",
              " 'Assists per game': [5.9,\n",
              "  2.9,\n",
              "  4.6,\n",
              "  5.9,\n",
              "  8.0,\n",
              "  6.3,\n",
              "  5.5,\n",
              "  6.1,\n",
              "  5.5,\n",
              "  5.3,\n",
              "  4.3,\n",
              "  4.3,\n",
              "  3.5,\n",
              "  5.2,\n",
              "  3.8],\n",
              " 'Blocks per game': [0.8,\n",
              "  1.2,\n",
              "  1.5,\n",
              "  1.6,\n",
              "  0.8,\n",
              "  0.7,\n",
              "  1.0,\n",
              "  0.9,\n",
              "  0.8,\n",
              "  0.8,\n",
              "  0.5,\n",
              "  0.5,\n",
              "  0.5,\n",
              "  0.4,\n",
              "  0.5],\n",
              " 'Field goal percentage': [0.515,\n",
              "  0.457,\n",
              "  0.482,\n",
              "  0.535,\n",
              "  0.538,\n",
              "  0.526,\n",
              "  0.539,\n",
              "  0.519,\n",
              "  0.495,\n",
              "  0.411,\n",
              "  0.495,\n",
              "  0.486,\n",
              "  0.465,\n",
              "  0.416,\n",
              "  0.445],\n",
              " 'Free-throw percentage': [0.845,\n",
              "  0.84,\n",
              "  0.857,\n",
              "  0.841,\n",
              "  0.85,\n",
              "  0.848,\n",
              "  0.851,\n",
              "  0.832,\n",
              "  0.837,\n",
              "  0.801,\n",
              "  0.834,\n",
              "  0.833,\n",
              "  0.784,\n",
              "  0.79,\n",
              "  0.821],\n",
              " 'Games played': [82.0,\n",
              "  18.0,\n",
              "  82.0,\n",
              "  82.0,\n",
              "  81.0,\n",
              "  82.0,\n",
              "  82.0,\n",
              "  80.0,\n",
              "  78.0,\n",
              "  17.0,\n",
              "  82.0,\n",
              "  82.0,\n",
              "  82.0,\n",
              "  60.0,\n",
              "  82.0],\n",
              " 'Games started': [82.0,\n",
              "  7.0,\n",
              "  82.0,\n",
              "  82.0,\n",
              "  81.0,\n",
              "  82.0,\n",
              "  82.0,\n",
              "  80.0,\n",
              "  78.0,\n",
              "  17.0,\n",
              "  82.0,\n",
              "  82.0,\n",
              "  82.0,\n",
              "  53.0,\n",
              "  67.0],\n",
              " 'Minutes per game': [38.3,\n",
              "  25.1,\n",
              "  40.0,\n",
              "  40.4,\n",
              "  40.2,\n",
              "  39.0,\n",
              "  37.0,\n",
              "  38.8,\n",
              "  39.3,\n",
              "  39.3,\n",
              "  37.7,\n",
              "  37.9,\n",
              "  38.8,\n",
              "  34.9,\n",
              "  37.0],\n",
              " 'Points per game': [28.2,\n",
              "  22.7,\n",
              "  37.1,\n",
              "  35.0,\n",
              "  32.5,\n",
              "  33.6,\n",
              "  31.5,\n",
              "  30.1,\n",
              "  32.6,\n",
              "  26.9,\n",
              "  30.4,\n",
              "  29.6,\n",
              "  28.7,\n",
              "  22.9,\n",
              "  20.0],\n",
              " 'Rebounds per game': [6.5,\n",
              "  3.6,\n",
              "  5.2,\n",
              "  5.5,\n",
              "  8.0,\n",
              "  6.9,\n",
              "  6.0,\n",
              "  6.4,\n",
              "  6.7,\n",
              "  6.9,\n",
              "  6.6,\n",
              "  5.9,\n",
              "  5.8,\n",
              "  5.7,\n",
              "  6.1],\n",
              " 'Steals per game': [2.4,\n",
              "  2.1,\n",
              "  2.9,\n",
              "  3.2,\n",
              "  2.9,\n",
              "  2.8,\n",
              "  2.7,\n",
              "  2.3,\n",
              "  2.8,\n",
              "  1.8,\n",
              "  2.2,\n",
              "  1.7,\n",
              "  1.7,\n",
              "  1.4,\n",
              "  1.5]}"
            ]
          },
          "metadata": {
            "tags": []
          },
          "execution_count": 6
        }
      ]
    },
    {
      "cell_type": "code",
      "metadata": {
        "id": "fgkOG03lPNuE"
      },
      "source": [
        "# Do the same for each of the rest of our four players:\n",
        "# Get the stats and store the info in an object for Kobe Bryant:\n",
        "\n",
        "kobe_bryant_dict = get_basketball_stats(links[1])"
      ],
      "execution_count": 7,
      "outputs": []
    },
    {
      "cell_type": "code",
      "metadata": {
        "id": "wmJH5PBERNUm"
      },
      "source": [
        "# Get the stats and store the info in an object for LeBron James:\n",
        "lebron_james_dict = get_basketball_stats(links[2])"
      ],
      "execution_count": 8,
      "outputs": []
    },
    {
      "cell_type": "code",
      "metadata": {
        "id": "faqjgAy4RTHq"
      },
      "source": [
        "# Get the stats and store the info in an object for Michael Curry:\n",
        "michael_curry_dict = get_basketball_stats(links[3])"
      ],
      "execution_count": 9,
      "outputs": []
    },
    {
      "cell_type": "code",
      "metadata": {
        "id": "32ajmsbkRYOh",
        "colab": {
          "base_uri": "https://localhost:8080/",
          "height": 231
        },
        "outputId": "b0b37332-d59a-43a5-fd2a-acf5451b3e2b"
      },
      "source": [
        "# With the first player (Michael Jordan), create a dataframe from the dictionary of information we just got:\n",
        "mjdf = pd.DataFrame(michael_jordan_dict)\n",
        "\n",
        "# Display the first five rows:\n",
        "mjdf.head()"
      ],
      "execution_count": 10,
      "outputs": [
        {
          "output_type": "execute_result",
          "data": {
            "text/html": [
              "<div>\n",
              "<style scoped>\n",
              "    .dataframe tbody tr th:only-of-type {\n",
              "        vertical-align: middle;\n",
              "    }\n",
              "\n",
              "    .dataframe tbody tr th {\n",
              "        vertical-align: top;\n",
              "    }\n",
              "\n",
              "    .dataframe thead th {\n",
              "        text-align: right;\n",
              "    }\n",
              "</style>\n",
              "<table border=\"1\" class=\"dataframe\">\n",
              "  <thead>\n",
              "    <tr style=\"text-align: right;\">\n",
              "      <th></th>\n",
              "      <th>Games played</th>\n",
              "      <th>Games started</th>\n",
              "      <th>Minutes per game</th>\n",
              "      <th>Field goal percentage</th>\n",
              "      <th>3-point field-goal percentage</th>\n",
              "      <th>Free-throw percentage</th>\n",
              "      <th>Rebounds per game</th>\n",
              "      <th>Assists per game</th>\n",
              "      <th>Steals per game</th>\n",
              "      <th>Blocks per game</th>\n",
              "      <th>Points per game</th>\n",
              "    </tr>\n",
              "  </thead>\n",
              "  <tbody>\n",
              "    <tr>\n",
              "      <th>0</th>\n",
              "      <td>82.0</td>\n",
              "      <td>82.0</td>\n",
              "      <td>38.3</td>\n",
              "      <td>0.515</td>\n",
              "      <td>0.173</td>\n",
              "      <td>0.845</td>\n",
              "      <td>6.5</td>\n",
              "      <td>5.9</td>\n",
              "      <td>2.4</td>\n",
              "      <td>0.8</td>\n",
              "      <td>28.2</td>\n",
              "    </tr>\n",
              "    <tr>\n",
              "      <th>1</th>\n",
              "      <td>18.0</td>\n",
              "      <td>7.0</td>\n",
              "      <td>25.1</td>\n",
              "      <td>0.457</td>\n",
              "      <td>0.167</td>\n",
              "      <td>0.840</td>\n",
              "      <td>3.6</td>\n",
              "      <td>2.9</td>\n",
              "      <td>2.1</td>\n",
              "      <td>1.2</td>\n",
              "      <td>22.7</td>\n",
              "    </tr>\n",
              "    <tr>\n",
              "      <th>2</th>\n",
              "      <td>82.0</td>\n",
              "      <td>82.0</td>\n",
              "      <td>40.0</td>\n",
              "      <td>0.482</td>\n",
              "      <td>0.182</td>\n",
              "      <td>0.857</td>\n",
              "      <td>5.2</td>\n",
              "      <td>4.6</td>\n",
              "      <td>2.9</td>\n",
              "      <td>1.5</td>\n",
              "      <td>37.1</td>\n",
              "    </tr>\n",
              "    <tr>\n",
              "      <th>3</th>\n",
              "      <td>82.0</td>\n",
              "      <td>82.0</td>\n",
              "      <td>40.4</td>\n",
              "      <td>0.535</td>\n",
              "      <td>0.132</td>\n",
              "      <td>0.841</td>\n",
              "      <td>5.5</td>\n",
              "      <td>5.9</td>\n",
              "      <td>3.2</td>\n",
              "      <td>1.6</td>\n",
              "      <td>35.0</td>\n",
              "    </tr>\n",
              "    <tr>\n",
              "      <th>4</th>\n",
              "      <td>81.0</td>\n",
              "      <td>81.0</td>\n",
              "      <td>40.2</td>\n",
              "      <td>0.538</td>\n",
              "      <td>0.276</td>\n",
              "      <td>0.850</td>\n",
              "      <td>8.0</td>\n",
              "      <td>8.0</td>\n",
              "      <td>2.9</td>\n",
              "      <td>0.8</td>\n",
              "      <td>32.5</td>\n",
              "    </tr>\n",
              "  </tbody>\n",
              "</table>\n",
              "</div>"
            ],
            "text/plain": [
              "   Games played  Games started  ...  Blocks per game  Points per game\n",
              "0          82.0           82.0  ...              0.8             28.2\n",
              "1          18.0            7.0  ...              1.2             22.7\n",
              "2          82.0           82.0  ...              1.5             37.1\n",
              "3          82.0           82.0  ...              1.6             35.0\n",
              "4          81.0           81.0  ...              0.8             32.5\n",
              "\n",
              "[5 rows x 11 columns]"
            ]
          },
          "metadata": {
            "tags": []
          },
          "execution_count": 10
        }
      ]
    },
    {
      "cell_type": "code",
      "metadata": {
        "id": "pe1CLEhFSRtm",
        "colab": {
          "base_uri": "https://localhost:8080/",
          "height": 231
        },
        "outputId": "8b170dcd-1a5c-4984-cac5-8b42d082af7a"
      },
      "source": [
        "# Do the same for Kobe Bryant:\n",
        "kbdf = pd.DataFrame(kobe_bryant_dict)\n",
        "kbdf.head()"
      ],
      "execution_count": 11,
      "outputs": [
        {
          "output_type": "execute_result",
          "data": {
            "text/html": [
              "<div>\n",
              "<style scoped>\n",
              "    .dataframe tbody tr th:only-of-type {\n",
              "        vertical-align: middle;\n",
              "    }\n",
              "\n",
              "    .dataframe tbody tr th {\n",
              "        vertical-align: top;\n",
              "    }\n",
              "\n",
              "    .dataframe thead th {\n",
              "        text-align: right;\n",
              "    }\n",
              "</style>\n",
              "<table border=\"1\" class=\"dataframe\">\n",
              "  <thead>\n",
              "    <tr style=\"text-align: right;\">\n",
              "      <th></th>\n",
              "      <th>Games played</th>\n",
              "      <th>Games started</th>\n",
              "      <th>Minutes per game</th>\n",
              "      <th>Field goal percentage</th>\n",
              "      <th>3-point field-goal percentage</th>\n",
              "      <th>Free-throw percentage</th>\n",
              "      <th>Rebounds per game</th>\n",
              "      <th>Assists per game</th>\n",
              "      <th>Steals per game</th>\n",
              "      <th>Blocks per game</th>\n",
              "      <th>Points per game</th>\n",
              "    </tr>\n",
              "  </thead>\n",
              "  <tbody>\n",
              "    <tr>\n",
              "      <th>0</th>\n",
              "      <td>71.0</td>\n",
              "      <td>6.0</td>\n",
              "      <td>15.5</td>\n",
              "      <td>0.417</td>\n",
              "      <td>0.375</td>\n",
              "      <td>0.819</td>\n",
              "      <td>1.9</td>\n",
              "      <td>1.3</td>\n",
              "      <td>0.7</td>\n",
              "      <td>0.3</td>\n",
              "      <td>7.6</td>\n",
              "    </tr>\n",
              "    <tr>\n",
              "      <th>1</th>\n",
              "      <td>79.0</td>\n",
              "      <td>1.0</td>\n",
              "      <td>26.0</td>\n",
              "      <td>0.428</td>\n",
              "      <td>0.341</td>\n",
              "      <td>0.794</td>\n",
              "      <td>3.1</td>\n",
              "      <td>2.5</td>\n",
              "      <td>0.9</td>\n",
              "      <td>0.5</td>\n",
              "      <td>15.4</td>\n",
              "    </tr>\n",
              "    <tr>\n",
              "      <th>2</th>\n",
              "      <td>50.0</td>\n",
              "      <td>50.0</td>\n",
              "      <td>37.9</td>\n",
              "      <td>0.465</td>\n",
              "      <td>0.267</td>\n",
              "      <td>0.839</td>\n",
              "      <td>5.3</td>\n",
              "      <td>3.8</td>\n",
              "      <td>1.4</td>\n",
              "      <td>1.0</td>\n",
              "      <td>19.9</td>\n",
              "    </tr>\n",
              "    <tr>\n",
              "      <th>3</th>\n",
              "      <td>66.0</td>\n",
              "      <td>62.0</td>\n",
              "      <td>38.2</td>\n",
              "      <td>0.468</td>\n",
              "      <td>0.319</td>\n",
              "      <td>0.821</td>\n",
              "      <td>6.3</td>\n",
              "      <td>4.9</td>\n",
              "      <td>1.6</td>\n",
              "      <td>0.9</td>\n",
              "      <td>22.5</td>\n",
              "    </tr>\n",
              "    <tr>\n",
              "      <th>4</th>\n",
              "      <td>68.0</td>\n",
              "      <td>68.0</td>\n",
              "      <td>40.9</td>\n",
              "      <td>0.464</td>\n",
              "      <td>0.305</td>\n",
              "      <td>0.853</td>\n",
              "      <td>5.9</td>\n",
              "      <td>5.0</td>\n",
              "      <td>1.7</td>\n",
              "      <td>0.6</td>\n",
              "      <td>28.5</td>\n",
              "    </tr>\n",
              "  </tbody>\n",
              "</table>\n",
              "</div>"
            ],
            "text/plain": [
              "   Games played  Games started  ...  Blocks per game  Points per game\n",
              "0          71.0            6.0  ...              0.3              7.6\n",
              "1          79.0            1.0  ...              0.5             15.4\n",
              "2          50.0           50.0  ...              1.0             19.9\n",
              "3          66.0           62.0  ...              0.9             22.5\n",
              "4          68.0           68.0  ...              0.6             28.5\n",
              "\n",
              "[5 rows x 11 columns]"
            ]
          },
          "metadata": {
            "tags": []
          },
          "execution_count": 11
        }
      ]
    },
    {
      "cell_type": "code",
      "metadata": {
        "id": "kprwRcweSnAK",
        "colab": {
          "base_uri": "https://localhost:8080/",
          "height": 231
        },
        "outputId": "703c1d9f-5ed3-4d10-e35a-a4ef21a5e0d6"
      },
      "source": [
        "# Do the same for LeBron James:\n",
        "ljdf = pd.DataFrame(lebron_james_dict)\n",
        "ljdf.head()"
      ],
      "execution_count": 12,
      "outputs": [
        {
          "output_type": "execute_result",
          "data": {
            "text/html": [
              "<div>\n",
              "<style scoped>\n",
              "    .dataframe tbody tr th:only-of-type {\n",
              "        vertical-align: middle;\n",
              "    }\n",
              "\n",
              "    .dataframe tbody tr th {\n",
              "        vertical-align: top;\n",
              "    }\n",
              "\n",
              "    .dataframe thead th {\n",
              "        text-align: right;\n",
              "    }\n",
              "</style>\n",
              "<table border=\"1\" class=\"dataframe\">\n",
              "  <thead>\n",
              "    <tr style=\"text-align: right;\">\n",
              "      <th></th>\n",
              "      <th>Games played</th>\n",
              "      <th>Games started</th>\n",
              "      <th>Minutes per game</th>\n",
              "      <th>Field goal percentage</th>\n",
              "      <th>3-point field-goal percentage</th>\n",
              "      <th>Free-throw percentage</th>\n",
              "      <th>Rebounds per game</th>\n",
              "      <th>Assists per game</th>\n",
              "      <th>Steals per game</th>\n",
              "      <th>Blocks per game</th>\n",
              "      <th>Points per game</th>\n",
              "    </tr>\n",
              "  </thead>\n",
              "  <tbody>\n",
              "    <tr>\n",
              "      <th>0</th>\n",
              "      <td>79.0</td>\n",
              "      <td>79.0</td>\n",
              "      <td>39.5</td>\n",
              "      <td>0.417</td>\n",
              "      <td>0.290</td>\n",
              "      <td>0.754</td>\n",
              "      <td>5.5</td>\n",
              "      <td>5.9</td>\n",
              "      <td>1.6</td>\n",
              "      <td>0.7</td>\n",
              "      <td>20.9</td>\n",
              "    </tr>\n",
              "    <tr>\n",
              "      <th>1</th>\n",
              "      <td>80.0</td>\n",
              "      <td>80.0</td>\n",
              "      <td>42.4</td>\n",
              "      <td>0.472</td>\n",
              "      <td>0.351</td>\n",
              "      <td>0.750</td>\n",
              "      <td>7.4</td>\n",
              "      <td>7.2</td>\n",
              "      <td>2.2</td>\n",
              "      <td>0.7</td>\n",
              "      <td>27.2</td>\n",
              "    </tr>\n",
              "    <tr>\n",
              "      <th>2</th>\n",
              "      <td>79.0</td>\n",
              "      <td>79.0</td>\n",
              "      <td>42.5</td>\n",
              "      <td>0.480</td>\n",
              "      <td>0.335</td>\n",
              "      <td>0.738</td>\n",
              "      <td>7.0</td>\n",
              "      <td>6.6</td>\n",
              "      <td>1.6</td>\n",
              "      <td>0.8</td>\n",
              "      <td>31.4</td>\n",
              "    </tr>\n",
              "    <tr>\n",
              "      <th>3</th>\n",
              "      <td>78.0</td>\n",
              "      <td>78.0</td>\n",
              "      <td>40.9</td>\n",
              "      <td>0.476</td>\n",
              "      <td>0.319</td>\n",
              "      <td>0.698</td>\n",
              "      <td>6.7</td>\n",
              "      <td>6.0</td>\n",
              "      <td>1.6</td>\n",
              "      <td>0.7</td>\n",
              "      <td>27.3</td>\n",
              "    </tr>\n",
              "    <tr>\n",
              "      <th>4</th>\n",
              "      <td>75.0</td>\n",
              "      <td>74.0</td>\n",
              "      <td>40.4</td>\n",
              "      <td>0.484</td>\n",
              "      <td>0.315</td>\n",
              "      <td>0.712</td>\n",
              "      <td>7.9</td>\n",
              "      <td>7.2</td>\n",
              "      <td>1.8</td>\n",
              "      <td>1.1</td>\n",
              "      <td>30.0</td>\n",
              "    </tr>\n",
              "  </tbody>\n",
              "</table>\n",
              "</div>"
            ],
            "text/plain": [
              "   Games played  Games started  ...  Blocks per game  Points per game\n",
              "0          79.0           79.0  ...              0.7             20.9\n",
              "1          80.0           80.0  ...              0.7             27.2\n",
              "2          79.0           79.0  ...              0.8             31.4\n",
              "3          78.0           78.0  ...              0.7             27.3\n",
              "4          75.0           74.0  ...              1.1             30.0\n",
              "\n",
              "[5 rows x 11 columns]"
            ]
          },
          "metadata": {
            "tags": []
          },
          "execution_count": 12
        }
      ]
    },
    {
      "cell_type": "code",
      "metadata": {
        "id": "HtQexXm6ScMn",
        "colab": {
          "base_uri": "https://localhost:8080/",
          "height": 231
        },
        "outputId": "f0b8a657-b597-4e14-d5f5-b1515878b9d4"
      },
      "source": [
        "# And again for Michael Curry:\n",
        "mcdf = pd.DataFrame(michael_curry_dict)\n",
        "mcdf.head()"
      ],
      "execution_count": 13,
      "outputs": [
        {
          "output_type": "execute_result",
          "data": {
            "text/html": [
              "<div>\n",
              "<style scoped>\n",
              "    .dataframe tbody tr th:only-of-type {\n",
              "        vertical-align: middle;\n",
              "    }\n",
              "\n",
              "    .dataframe tbody tr th {\n",
              "        vertical-align: top;\n",
              "    }\n",
              "\n",
              "    .dataframe thead th {\n",
              "        text-align: right;\n",
              "    }\n",
              "</style>\n",
              "<table border=\"1\" class=\"dataframe\">\n",
              "  <thead>\n",
              "    <tr style=\"text-align: right;\">\n",
              "      <th></th>\n",
              "      <th>Games played</th>\n",
              "      <th>Games started</th>\n",
              "      <th>Minutes per game</th>\n",
              "      <th>Field goal percentage</th>\n",
              "      <th>3-point field-goal percentage</th>\n",
              "      <th>Free-throw percentage</th>\n",
              "      <th>Rebounds per game</th>\n",
              "      <th>Assists per game</th>\n",
              "      <th>Steals per game</th>\n",
              "      <th>Blocks per game</th>\n",
              "      <th>Points per game</th>\n",
              "    </tr>\n",
              "  </thead>\n",
              "  <tbody>\n",
              "    <tr>\n",
              "      <th>0</th>\n",
              "      <td>80.0</td>\n",
              "      <td>77.0</td>\n",
              "      <td>36.2</td>\n",
              "      <td>0.462</td>\n",
              "      <td>0.437</td>\n",
              "      <td>0.885</td>\n",
              "      <td>4.5</td>\n",
              "      <td>5.9</td>\n",
              "      <td>1.9</td>\n",
              "      <td>0.2</td>\n",
              "      <td>17.5</td>\n",
              "    </tr>\n",
              "    <tr>\n",
              "      <th>1</th>\n",
              "      <td>74.0</td>\n",
              "      <td>74.0</td>\n",
              "      <td>33.6</td>\n",
              "      <td>0.480</td>\n",
              "      <td>0.442</td>\n",
              "      <td>0.934</td>\n",
              "      <td>3.9</td>\n",
              "      <td>5.8</td>\n",
              "      <td>1.5</td>\n",
              "      <td>0.3</td>\n",
              "      <td>18.6</td>\n",
              "    </tr>\n",
              "    <tr>\n",
              "      <th>2</th>\n",
              "      <td>26.0</td>\n",
              "      <td>23.0</td>\n",
              "      <td>28.2</td>\n",
              "      <td>0.490</td>\n",
              "      <td>0.455</td>\n",
              "      <td>0.809</td>\n",
              "      <td>3.4</td>\n",
              "      <td>5.3</td>\n",
              "      <td>1.5</td>\n",
              "      <td>0.3</td>\n",
              "      <td>14.7</td>\n",
              "    </tr>\n",
              "    <tr>\n",
              "      <th>3</th>\n",
              "      <td>78.0</td>\n",
              "      <td>78.0</td>\n",
              "      <td>38.2</td>\n",
              "      <td>0.451</td>\n",
              "      <td>0.453</td>\n",
              "      <td>0.900</td>\n",
              "      <td>4.0</td>\n",
              "      <td>6.9</td>\n",
              "      <td>1.6</td>\n",
              "      <td>0.2</td>\n",
              "      <td>22.9</td>\n",
              "    </tr>\n",
              "    <tr>\n",
              "      <th>4</th>\n",
              "      <td>78.0</td>\n",
              "      <td>78.0</td>\n",
              "      <td>36.5</td>\n",
              "      <td>0.471</td>\n",
              "      <td>0.424</td>\n",
              "      <td>0.885</td>\n",
              "      <td>4.3</td>\n",
              "      <td>8.5</td>\n",
              "      <td>1.6</td>\n",
              "      <td>0.2</td>\n",
              "      <td>24.0</td>\n",
              "    </tr>\n",
              "  </tbody>\n",
              "</table>\n",
              "</div>"
            ],
            "text/plain": [
              "   Games played  Games started  ...  Blocks per game  Points per game\n",
              "0          80.0           77.0  ...              0.2             17.5\n",
              "1          74.0           74.0  ...              0.3             18.6\n",
              "2          26.0           23.0  ...              0.3             14.7\n",
              "3          78.0           78.0  ...              0.2             22.9\n",
              "4          78.0           78.0  ...              0.2             24.0\n",
              "\n",
              "[5 rows x 11 columns]"
            ]
          },
          "metadata": {
            "tags": []
          },
          "execution_count": 13
        }
      ]
    },
    {
      "cell_type": "code",
      "metadata": {
        "id": "P9O3tgReSieP",
        "colab": {
          "base_uri": "https://localhost:8080/",
          "height": 248
        },
        "outputId": "d9559fc9-17a1-4415-ac9a-377d0604887d"
      },
      "source": [
        "# It is possible to check the last five (5) entries of a dataframe using the .tail() method, just as the first five rows were checked with the .head() method.\n",
        "print(\"Here are the last five rows for Michael Jordan: \")\n",
        "mjdf.tail()"
      ],
      "execution_count": 14,
      "outputs": [
        {
          "output_type": "stream",
          "text": [
            "Here are the last five rows for Michael Jordan: \n"
          ],
          "name": "stdout"
        },
        {
          "output_type": "execute_result",
          "data": {
            "text/html": [
              "<div>\n",
              "<style scoped>\n",
              "    .dataframe tbody tr th:only-of-type {\n",
              "        vertical-align: middle;\n",
              "    }\n",
              "\n",
              "    .dataframe tbody tr th {\n",
              "        vertical-align: top;\n",
              "    }\n",
              "\n",
              "    .dataframe thead th {\n",
              "        text-align: right;\n",
              "    }\n",
              "</style>\n",
              "<table border=\"1\" class=\"dataframe\">\n",
              "  <thead>\n",
              "    <tr style=\"text-align: right;\">\n",
              "      <th></th>\n",
              "      <th>Games played</th>\n",
              "      <th>Games started</th>\n",
              "      <th>Minutes per game</th>\n",
              "      <th>Field goal percentage</th>\n",
              "      <th>3-point field-goal percentage</th>\n",
              "      <th>Free-throw percentage</th>\n",
              "      <th>Rebounds per game</th>\n",
              "      <th>Assists per game</th>\n",
              "      <th>Steals per game</th>\n",
              "      <th>Blocks per game</th>\n",
              "      <th>Points per game</th>\n",
              "    </tr>\n",
              "  </thead>\n",
              "  <tbody>\n",
              "    <tr>\n",
              "      <th>10</th>\n",
              "      <td>82.0</td>\n",
              "      <td>82.0</td>\n",
              "      <td>37.7</td>\n",
              "      <td>0.495</td>\n",
              "      <td>0.427</td>\n",
              "      <td>0.834</td>\n",
              "      <td>6.6</td>\n",
              "      <td>4.3</td>\n",
              "      <td>2.2</td>\n",
              "      <td>0.5</td>\n",
              "      <td>30.4</td>\n",
              "    </tr>\n",
              "    <tr>\n",
              "      <th>11</th>\n",
              "      <td>82.0</td>\n",
              "      <td>82.0</td>\n",
              "      <td>37.9</td>\n",
              "      <td>0.486</td>\n",
              "      <td>0.374</td>\n",
              "      <td>0.833</td>\n",
              "      <td>5.9</td>\n",
              "      <td>4.3</td>\n",
              "      <td>1.7</td>\n",
              "      <td>0.5</td>\n",
              "      <td>29.6</td>\n",
              "    </tr>\n",
              "    <tr>\n",
              "      <th>12</th>\n",
              "      <td>82.0</td>\n",
              "      <td>82.0</td>\n",
              "      <td>38.8</td>\n",
              "      <td>0.465</td>\n",
              "      <td>0.238</td>\n",
              "      <td>0.784</td>\n",
              "      <td>5.8</td>\n",
              "      <td>3.5</td>\n",
              "      <td>1.7</td>\n",
              "      <td>0.5</td>\n",
              "      <td>28.7</td>\n",
              "    </tr>\n",
              "    <tr>\n",
              "      <th>13</th>\n",
              "      <td>60.0</td>\n",
              "      <td>53.0</td>\n",
              "      <td>34.9</td>\n",
              "      <td>0.416</td>\n",
              "      <td>0.189</td>\n",
              "      <td>0.790</td>\n",
              "      <td>5.7</td>\n",
              "      <td>5.2</td>\n",
              "      <td>1.4</td>\n",
              "      <td>0.4</td>\n",
              "      <td>22.9</td>\n",
              "    </tr>\n",
              "    <tr>\n",
              "      <th>14</th>\n",
              "      <td>82.0</td>\n",
              "      <td>67.0</td>\n",
              "      <td>37.0</td>\n",
              "      <td>0.445</td>\n",
              "      <td>0.291</td>\n",
              "      <td>0.821</td>\n",
              "      <td>6.1</td>\n",
              "      <td>3.8</td>\n",
              "      <td>1.5</td>\n",
              "      <td>0.5</td>\n",
              "      <td>20.0</td>\n",
              "    </tr>\n",
              "  </tbody>\n",
              "</table>\n",
              "</div>"
            ],
            "text/plain": [
              "    Games played  Games started  ...  Blocks per game  Points per game\n",
              "10          82.0           82.0  ...              0.5             30.4\n",
              "11          82.0           82.0  ...              0.5             29.6\n",
              "12          82.0           82.0  ...              0.5             28.7\n",
              "13          60.0           53.0  ...              0.4             22.9\n",
              "14          82.0           67.0  ...              0.5             20.0\n",
              "\n",
              "[5 rows x 11 columns]"
            ]
          },
          "metadata": {
            "tags": []
          },
          "execution_count": 14
        }
      ]
    },
    {
      "cell_type": "code",
      "metadata": {
        "id": "B_TKrObTS1j4",
        "colab": {
          "base_uri": "https://localhost:8080/",
          "height": 248
        },
        "outputId": "0113a1be-e89e-4038-9ea8-6107fb29f924"
      },
      "source": [
        "print(\"Here are the last 5 rows for Kobe Bryant: \")\n",
        "kbdf.tail()"
      ],
      "execution_count": 15,
      "outputs": [
        {
          "output_type": "stream",
          "text": [
            "Here are the last 5 rows for Kobe Bryant: \n"
          ],
          "name": "stdout"
        },
        {
          "output_type": "execute_result",
          "data": {
            "text/html": [
              "<div>\n",
              "<style scoped>\n",
              "    .dataframe tbody tr th:only-of-type {\n",
              "        vertical-align: middle;\n",
              "    }\n",
              "\n",
              "    .dataframe tbody tr th {\n",
              "        vertical-align: top;\n",
              "    }\n",
              "\n",
              "    .dataframe thead th {\n",
              "        text-align: right;\n",
              "    }\n",
              "</style>\n",
              "<table border=\"1\" class=\"dataframe\">\n",
              "  <thead>\n",
              "    <tr style=\"text-align: right;\">\n",
              "      <th></th>\n",
              "      <th>Games played</th>\n",
              "      <th>Games started</th>\n",
              "      <th>Minutes per game</th>\n",
              "      <th>Field goal percentage</th>\n",
              "      <th>3-point field-goal percentage</th>\n",
              "      <th>Free-throw percentage</th>\n",
              "      <th>Rebounds per game</th>\n",
              "      <th>Assists per game</th>\n",
              "      <th>Steals per game</th>\n",
              "      <th>Blocks per game</th>\n",
              "      <th>Points per game</th>\n",
              "    </tr>\n",
              "  </thead>\n",
              "  <tbody>\n",
              "    <tr>\n",
              "      <th>15</th>\n",
              "      <td>58.0</td>\n",
              "      <td>58.0</td>\n",
              "      <td>38.5</td>\n",
              "      <td>0.430</td>\n",
              "      <td>0.303</td>\n",
              "      <td>0.845</td>\n",
              "      <td>5.4</td>\n",
              "      <td>4.6</td>\n",
              "      <td>1.2</td>\n",
              "      <td>0.3</td>\n",
              "      <td>27.9</td>\n",
              "    </tr>\n",
              "    <tr>\n",
              "      <th>16</th>\n",
              "      <td>78.0</td>\n",
              "      <td>78.0</td>\n",
              "      <td>38.6</td>\n",
              "      <td>0.463</td>\n",
              "      <td>0.324</td>\n",
              "      <td>0.839</td>\n",
              "      <td>5.6</td>\n",
              "      <td>6.0</td>\n",
              "      <td>1.4</td>\n",
              "      <td>0.3</td>\n",
              "      <td>27.3</td>\n",
              "    </tr>\n",
              "    <tr>\n",
              "      <th>17</th>\n",
              "      <td>6.0</td>\n",
              "      <td>6.0</td>\n",
              "      <td>29.5</td>\n",
              "      <td>0.425</td>\n",
              "      <td>0.188</td>\n",
              "      <td>0.857</td>\n",
              "      <td>4.3</td>\n",
              "      <td>6.3</td>\n",
              "      <td>1.2</td>\n",
              "      <td>0.2</td>\n",
              "      <td>13.8</td>\n",
              "    </tr>\n",
              "    <tr>\n",
              "      <th>18</th>\n",
              "      <td>35.0</td>\n",
              "      <td>35.0</td>\n",
              "      <td>34.5</td>\n",
              "      <td>0.373</td>\n",
              "      <td>0.293</td>\n",
              "      <td>0.813</td>\n",
              "      <td>5.7</td>\n",
              "      <td>5.6</td>\n",
              "      <td>1.3</td>\n",
              "      <td>0.2</td>\n",
              "      <td>22.3</td>\n",
              "    </tr>\n",
              "    <tr>\n",
              "      <th>19</th>\n",
              "      <td>66.0</td>\n",
              "      <td>66.0</td>\n",
              "      <td>28.2</td>\n",
              "      <td>0.358</td>\n",
              "      <td>0.285</td>\n",
              "      <td>0.826</td>\n",
              "      <td>3.7</td>\n",
              "      <td>2.8</td>\n",
              "      <td>0.9</td>\n",
              "      <td>0.2</td>\n",
              "      <td>17.6</td>\n",
              "    </tr>\n",
              "  </tbody>\n",
              "</table>\n",
              "</div>"
            ],
            "text/plain": [
              "    Games played  Games started  ...  Blocks per game  Points per game\n",
              "15          58.0           58.0  ...              0.3             27.9\n",
              "16          78.0           78.0  ...              0.3             27.3\n",
              "17           6.0            6.0  ...              0.2             13.8\n",
              "18          35.0           35.0  ...              0.2             22.3\n",
              "19          66.0           66.0  ...              0.2             17.6\n",
              "\n",
              "[5 rows x 11 columns]"
            ]
          },
          "metadata": {
            "tags": []
          },
          "execution_count": 15
        }
      ]
    },
    {
      "cell_type": "code",
      "metadata": {
        "id": "5qqwHdaxS8KN",
        "colab": {
          "base_uri": "https://localhost:8080/",
          "height": 248
        },
        "outputId": "1344fca9-af78-44d3-85d6-4db695b6feb4"
      },
      "source": [
        "print(\"Here are the last 5 rows for LeBron James: \")\n",
        "ljdf.tail()"
      ],
      "execution_count": 16,
      "outputs": [
        {
          "output_type": "stream",
          "text": [
            "Here are the last 5 rows for LeBron James: \n"
          ],
          "name": "stdout"
        },
        {
          "output_type": "execute_result",
          "data": {
            "text/html": [
              "<div>\n",
              "<style scoped>\n",
              "    .dataframe tbody tr th:only-of-type {\n",
              "        vertical-align: middle;\n",
              "    }\n",
              "\n",
              "    .dataframe tbody tr th {\n",
              "        vertical-align: top;\n",
              "    }\n",
              "\n",
              "    .dataframe thead th {\n",
              "        text-align: right;\n",
              "    }\n",
              "</style>\n",
              "<table border=\"1\" class=\"dataframe\">\n",
              "  <thead>\n",
              "    <tr style=\"text-align: right;\">\n",
              "      <th></th>\n",
              "      <th>Games played</th>\n",
              "      <th>Games started</th>\n",
              "      <th>Minutes per game</th>\n",
              "      <th>Field goal percentage</th>\n",
              "      <th>3-point field-goal percentage</th>\n",
              "      <th>Free-throw percentage</th>\n",
              "      <th>Rebounds per game</th>\n",
              "      <th>Assists per game</th>\n",
              "      <th>Steals per game</th>\n",
              "      <th>Blocks per game</th>\n",
              "      <th>Points per game</th>\n",
              "    </tr>\n",
              "  </thead>\n",
              "  <tbody>\n",
              "    <tr>\n",
              "      <th>12</th>\n",
              "      <td>76.0</td>\n",
              "      <td>76.0</td>\n",
              "      <td>35.6</td>\n",
              "      <td>0.520</td>\n",
              "      <td>0.309</td>\n",
              "      <td>0.731</td>\n",
              "      <td>7.4</td>\n",
              "      <td>6.8</td>\n",
              "      <td>1.4</td>\n",
              "      <td>0.6</td>\n",
              "      <td>25.3</td>\n",
              "    </tr>\n",
              "    <tr>\n",
              "      <th>13</th>\n",
              "      <td>74.0</td>\n",
              "      <td>74.0</td>\n",
              "      <td>37.8</td>\n",
              "      <td>0.548</td>\n",
              "      <td>0.363</td>\n",
              "      <td>0.674</td>\n",
              "      <td>8.6</td>\n",
              "      <td>8.7</td>\n",
              "      <td>1.2</td>\n",
              "      <td>0.6</td>\n",
              "      <td>26.4</td>\n",
              "    </tr>\n",
              "    <tr>\n",
              "      <th>14</th>\n",
              "      <td>82.0</td>\n",
              "      <td>82.0</td>\n",
              "      <td>36.9</td>\n",
              "      <td>0.542</td>\n",
              "      <td>0.367</td>\n",
              "      <td>0.731</td>\n",
              "      <td>8.6</td>\n",
              "      <td>9.1</td>\n",
              "      <td>1.4</td>\n",
              "      <td>0.9</td>\n",
              "      <td>27.5</td>\n",
              "    </tr>\n",
              "    <tr>\n",
              "      <th>15</th>\n",
              "      <td>55.0</td>\n",
              "      <td>55.0</td>\n",
              "      <td>35.2</td>\n",
              "      <td>0.510</td>\n",
              "      <td>0.339</td>\n",
              "      <td>0.665</td>\n",
              "      <td>8.5</td>\n",
              "      <td>8.3</td>\n",
              "      <td>1.3</td>\n",
              "      <td>0.6</td>\n",
              "      <td>27.4</td>\n",
              "    </tr>\n",
              "    <tr>\n",
              "      <th>16</th>\n",
              "      <td>67.0</td>\n",
              "      <td>67.0</td>\n",
              "      <td>34.6</td>\n",
              "      <td>0.493</td>\n",
              "      <td>0.348</td>\n",
              "      <td>0.693</td>\n",
              "      <td>7.8</td>\n",
              "      <td>10.2</td>\n",
              "      <td>1.2</td>\n",
              "      <td>0.5</td>\n",
              "      <td>25.3</td>\n",
              "    </tr>\n",
              "  </tbody>\n",
              "</table>\n",
              "</div>"
            ],
            "text/plain": [
              "    Games played  Games started  ...  Blocks per game  Points per game\n",
              "12          76.0           76.0  ...              0.6             25.3\n",
              "13          74.0           74.0  ...              0.6             26.4\n",
              "14          82.0           82.0  ...              0.9             27.5\n",
              "15          55.0           55.0  ...              0.6             27.4\n",
              "16          67.0           67.0  ...              0.5             25.3\n",
              "\n",
              "[5 rows x 11 columns]"
            ]
          },
          "metadata": {
            "tags": []
          },
          "execution_count": 16
        }
      ]
    },
    {
      "cell_type": "code",
      "metadata": {
        "id": "-CM65km6S-HE",
        "colab": {
          "base_uri": "https://localhost:8080/",
          "height": 248
        },
        "outputId": "38afe640-fa46-4862-d066-39d074484646"
      },
      "source": [
        "print(\"Here are the last 5 rows for Michael Curry: \")\n",
        "mcdf.tail()"
      ],
      "execution_count": 17,
      "outputs": [
        {
          "output_type": "stream",
          "text": [
            "Here are the last 5 rows for Michael Curry: \n"
          ],
          "name": "stdout"
        },
        {
          "output_type": "execute_result",
          "data": {
            "text/html": [
              "<div>\n",
              "<style scoped>\n",
              "    .dataframe tbody tr th:only-of-type {\n",
              "        vertical-align: middle;\n",
              "    }\n",
              "\n",
              "    .dataframe tbody tr th {\n",
              "        vertical-align: top;\n",
              "    }\n",
              "\n",
              "    .dataframe thead th {\n",
              "        text-align: right;\n",
              "    }\n",
              "</style>\n",
              "<table border=\"1\" class=\"dataframe\">\n",
              "  <thead>\n",
              "    <tr style=\"text-align: right;\">\n",
              "      <th></th>\n",
              "      <th>Games played</th>\n",
              "      <th>Games started</th>\n",
              "      <th>Minutes per game</th>\n",
              "      <th>Field goal percentage</th>\n",
              "      <th>3-point field-goal percentage</th>\n",
              "      <th>Free-throw percentage</th>\n",
              "      <th>Rebounds per game</th>\n",
              "      <th>Assists per game</th>\n",
              "      <th>Steals per game</th>\n",
              "      <th>Blocks per game</th>\n",
              "      <th>Points per game</th>\n",
              "    </tr>\n",
              "  </thead>\n",
              "  <tbody>\n",
              "    <tr>\n",
              "      <th>6</th>\n",
              "      <td>79.0</td>\n",
              "      <td>79.0</td>\n",
              "      <td>34.2</td>\n",
              "      <td>0.504</td>\n",
              "      <td>0.454</td>\n",
              "      <td>0.908</td>\n",
              "      <td>5.4</td>\n",
              "      <td>6.7</td>\n",
              "      <td>2.1</td>\n",
              "      <td>0.2</td>\n",
              "      <td>30.1</td>\n",
              "    </tr>\n",
              "    <tr>\n",
              "      <th>7</th>\n",
              "      <td>79.0</td>\n",
              "      <td>79.0</td>\n",
              "      <td>33.4</td>\n",
              "      <td>0.468</td>\n",
              "      <td>0.411</td>\n",
              "      <td>0.898</td>\n",
              "      <td>4.5</td>\n",
              "      <td>6.6</td>\n",
              "      <td>1.8</td>\n",
              "      <td>0.2</td>\n",
              "      <td>25.3</td>\n",
              "    </tr>\n",
              "    <tr>\n",
              "      <th>8</th>\n",
              "      <td>51.0</td>\n",
              "      <td>51.0</td>\n",
              "      <td>32.0</td>\n",
              "      <td>0.495</td>\n",
              "      <td>0.423</td>\n",
              "      <td>0.921</td>\n",
              "      <td>5.1</td>\n",
              "      <td>6.1</td>\n",
              "      <td>1.6</td>\n",
              "      <td>0.2</td>\n",
              "      <td>26.4</td>\n",
              "    </tr>\n",
              "    <tr>\n",
              "      <th>9</th>\n",
              "      <td>69.0</td>\n",
              "      <td>69.0</td>\n",
              "      <td>33.8</td>\n",
              "      <td>0.472</td>\n",
              "      <td>0.437</td>\n",
              "      <td>0.916</td>\n",
              "      <td>5.3</td>\n",
              "      <td>5.2</td>\n",
              "      <td>1.3</td>\n",
              "      <td>0.4</td>\n",
              "      <td>27.3</td>\n",
              "    </tr>\n",
              "    <tr>\n",
              "      <th>10</th>\n",
              "      <td>5.0</td>\n",
              "      <td>5.0</td>\n",
              "      <td>27.8</td>\n",
              "      <td>0.402</td>\n",
              "      <td>0.245</td>\n",
              "      <td>1.000</td>\n",
              "      <td>5.2</td>\n",
              "      <td>6.6</td>\n",
              "      <td>1.0</td>\n",
              "      <td>0.4</td>\n",
              "      <td>20.8</td>\n",
              "    </tr>\n",
              "  </tbody>\n",
              "</table>\n",
              "</div>"
            ],
            "text/plain": [
              "    Games played  Games started  ...  Blocks per game  Points per game\n",
              "6           79.0           79.0  ...              0.2             30.1\n",
              "7           79.0           79.0  ...              0.2             25.3\n",
              "8           51.0           51.0  ...              0.2             26.4\n",
              "9           69.0           69.0  ...              0.4             27.3\n",
              "10           5.0            5.0  ...              0.4             20.8\n",
              "\n",
              "[5 rows x 11 columns]"
            ]
          },
          "metadata": {
            "tags": []
          },
          "execution_count": 17
        }
      ]
    },
    {
      "cell_type": "code",
      "metadata": {
        "id": "BsS6HvkeS_2k",
        "colab": {
          "base_uri": "https://localhost:8080/",
          "height": 548
        },
        "outputId": "1b687849-8159-4a35-f1f9-231e3b6d0f41"
      },
      "source": [
        "print(\"Here is an alternate way to display the dataframe. It uses the display function: \")\n",
        "display(mjdf)"
      ],
      "execution_count": 18,
      "outputs": [
        {
          "output_type": "stream",
          "text": [
            "Here is an alternate way to display the dataframe. It uses the display function: \n"
          ],
          "name": "stdout"
        },
        {
          "output_type": "display_data",
          "data": {
            "text/html": [
              "<div>\n",
              "<style scoped>\n",
              "    .dataframe tbody tr th:only-of-type {\n",
              "        vertical-align: middle;\n",
              "    }\n",
              "\n",
              "    .dataframe tbody tr th {\n",
              "        vertical-align: top;\n",
              "    }\n",
              "\n",
              "    .dataframe thead th {\n",
              "        text-align: right;\n",
              "    }\n",
              "</style>\n",
              "<table border=\"1\" class=\"dataframe\">\n",
              "  <thead>\n",
              "    <tr style=\"text-align: right;\">\n",
              "      <th></th>\n",
              "      <th>Games played</th>\n",
              "      <th>Games started</th>\n",
              "      <th>Minutes per game</th>\n",
              "      <th>Field goal percentage</th>\n",
              "      <th>3-point field-goal percentage</th>\n",
              "      <th>Free-throw percentage</th>\n",
              "      <th>Rebounds per game</th>\n",
              "      <th>Assists per game</th>\n",
              "      <th>Steals per game</th>\n",
              "      <th>Blocks per game</th>\n",
              "      <th>Points per game</th>\n",
              "    </tr>\n",
              "  </thead>\n",
              "  <tbody>\n",
              "    <tr>\n",
              "      <th>0</th>\n",
              "      <td>82.0</td>\n",
              "      <td>82.0</td>\n",
              "      <td>38.3</td>\n",
              "      <td>0.515</td>\n",
              "      <td>0.173</td>\n",
              "      <td>0.845</td>\n",
              "      <td>6.5</td>\n",
              "      <td>5.9</td>\n",
              "      <td>2.4</td>\n",
              "      <td>0.8</td>\n",
              "      <td>28.2</td>\n",
              "    </tr>\n",
              "    <tr>\n",
              "      <th>1</th>\n",
              "      <td>18.0</td>\n",
              "      <td>7.0</td>\n",
              "      <td>25.1</td>\n",
              "      <td>0.457</td>\n",
              "      <td>0.167</td>\n",
              "      <td>0.840</td>\n",
              "      <td>3.6</td>\n",
              "      <td>2.9</td>\n",
              "      <td>2.1</td>\n",
              "      <td>1.2</td>\n",
              "      <td>22.7</td>\n",
              "    </tr>\n",
              "    <tr>\n",
              "      <th>2</th>\n",
              "      <td>82.0</td>\n",
              "      <td>82.0</td>\n",
              "      <td>40.0</td>\n",
              "      <td>0.482</td>\n",
              "      <td>0.182</td>\n",
              "      <td>0.857</td>\n",
              "      <td>5.2</td>\n",
              "      <td>4.6</td>\n",
              "      <td>2.9</td>\n",
              "      <td>1.5</td>\n",
              "      <td>37.1</td>\n",
              "    </tr>\n",
              "    <tr>\n",
              "      <th>3</th>\n",
              "      <td>82.0</td>\n",
              "      <td>82.0</td>\n",
              "      <td>40.4</td>\n",
              "      <td>0.535</td>\n",
              "      <td>0.132</td>\n",
              "      <td>0.841</td>\n",
              "      <td>5.5</td>\n",
              "      <td>5.9</td>\n",
              "      <td>3.2</td>\n",
              "      <td>1.6</td>\n",
              "      <td>35.0</td>\n",
              "    </tr>\n",
              "    <tr>\n",
              "      <th>4</th>\n",
              "      <td>81.0</td>\n",
              "      <td>81.0</td>\n",
              "      <td>40.2</td>\n",
              "      <td>0.538</td>\n",
              "      <td>0.276</td>\n",
              "      <td>0.850</td>\n",
              "      <td>8.0</td>\n",
              "      <td>8.0</td>\n",
              "      <td>2.9</td>\n",
              "      <td>0.8</td>\n",
              "      <td>32.5</td>\n",
              "    </tr>\n",
              "    <tr>\n",
              "      <th>5</th>\n",
              "      <td>82.0</td>\n",
              "      <td>82.0</td>\n",
              "      <td>39.0</td>\n",
              "      <td>0.526</td>\n",
              "      <td>0.376</td>\n",
              "      <td>0.848</td>\n",
              "      <td>6.9</td>\n",
              "      <td>6.3</td>\n",
              "      <td>2.8</td>\n",
              "      <td>0.7</td>\n",
              "      <td>33.6</td>\n",
              "    </tr>\n",
              "    <tr>\n",
              "      <th>6</th>\n",
              "      <td>82.0</td>\n",
              "      <td>82.0</td>\n",
              "      <td>37.0</td>\n",
              "      <td>0.539</td>\n",
              "      <td>0.312</td>\n",
              "      <td>0.851</td>\n",
              "      <td>6.0</td>\n",
              "      <td>5.5</td>\n",
              "      <td>2.7</td>\n",
              "      <td>1.0</td>\n",
              "      <td>31.5</td>\n",
              "    </tr>\n",
              "    <tr>\n",
              "      <th>7</th>\n",
              "      <td>80.0</td>\n",
              "      <td>80.0</td>\n",
              "      <td>38.8</td>\n",
              "      <td>0.519</td>\n",
              "      <td>0.270</td>\n",
              "      <td>0.832</td>\n",
              "      <td>6.4</td>\n",
              "      <td>6.1</td>\n",
              "      <td>2.3</td>\n",
              "      <td>0.9</td>\n",
              "      <td>30.1</td>\n",
              "    </tr>\n",
              "    <tr>\n",
              "      <th>8</th>\n",
              "      <td>78.0</td>\n",
              "      <td>78.0</td>\n",
              "      <td>39.3</td>\n",
              "      <td>0.495</td>\n",
              "      <td>0.352</td>\n",
              "      <td>0.837</td>\n",
              "      <td>6.7</td>\n",
              "      <td>5.5</td>\n",
              "      <td>2.8</td>\n",
              "      <td>0.8</td>\n",
              "      <td>32.6</td>\n",
              "    </tr>\n",
              "    <tr>\n",
              "      <th>9</th>\n",
              "      <td>17.0</td>\n",
              "      <td>17.0</td>\n",
              "      <td>39.3</td>\n",
              "      <td>0.411</td>\n",
              "      <td>0.500</td>\n",
              "      <td>0.801</td>\n",
              "      <td>6.9</td>\n",
              "      <td>5.3</td>\n",
              "      <td>1.8</td>\n",
              "      <td>0.8</td>\n",
              "      <td>26.9</td>\n",
              "    </tr>\n",
              "    <tr>\n",
              "      <th>10</th>\n",
              "      <td>82.0</td>\n",
              "      <td>82.0</td>\n",
              "      <td>37.7</td>\n",
              "      <td>0.495</td>\n",
              "      <td>0.427</td>\n",
              "      <td>0.834</td>\n",
              "      <td>6.6</td>\n",
              "      <td>4.3</td>\n",
              "      <td>2.2</td>\n",
              "      <td>0.5</td>\n",
              "      <td>30.4</td>\n",
              "    </tr>\n",
              "    <tr>\n",
              "      <th>11</th>\n",
              "      <td>82.0</td>\n",
              "      <td>82.0</td>\n",
              "      <td>37.9</td>\n",
              "      <td>0.486</td>\n",
              "      <td>0.374</td>\n",
              "      <td>0.833</td>\n",
              "      <td>5.9</td>\n",
              "      <td>4.3</td>\n",
              "      <td>1.7</td>\n",
              "      <td>0.5</td>\n",
              "      <td>29.6</td>\n",
              "    </tr>\n",
              "    <tr>\n",
              "      <th>12</th>\n",
              "      <td>82.0</td>\n",
              "      <td>82.0</td>\n",
              "      <td>38.8</td>\n",
              "      <td>0.465</td>\n",
              "      <td>0.238</td>\n",
              "      <td>0.784</td>\n",
              "      <td>5.8</td>\n",
              "      <td>3.5</td>\n",
              "      <td>1.7</td>\n",
              "      <td>0.5</td>\n",
              "      <td>28.7</td>\n",
              "    </tr>\n",
              "    <tr>\n",
              "      <th>13</th>\n",
              "      <td>60.0</td>\n",
              "      <td>53.0</td>\n",
              "      <td>34.9</td>\n",
              "      <td>0.416</td>\n",
              "      <td>0.189</td>\n",
              "      <td>0.790</td>\n",
              "      <td>5.7</td>\n",
              "      <td>5.2</td>\n",
              "      <td>1.4</td>\n",
              "      <td>0.4</td>\n",
              "      <td>22.9</td>\n",
              "    </tr>\n",
              "    <tr>\n",
              "      <th>14</th>\n",
              "      <td>82.0</td>\n",
              "      <td>67.0</td>\n",
              "      <td>37.0</td>\n",
              "      <td>0.445</td>\n",
              "      <td>0.291</td>\n",
              "      <td>0.821</td>\n",
              "      <td>6.1</td>\n",
              "      <td>3.8</td>\n",
              "      <td>1.5</td>\n",
              "      <td>0.5</td>\n",
              "      <td>20.0</td>\n",
              "    </tr>\n",
              "  </tbody>\n",
              "</table>\n",
              "</div>"
            ],
            "text/plain": [
              "    Games played  Games started  ...  Blocks per game  Points per game\n",
              "0           82.0           82.0  ...              0.8             28.2\n",
              "1           18.0            7.0  ...              1.2             22.7\n",
              "2           82.0           82.0  ...              1.5             37.1\n",
              "3           82.0           82.0  ...              1.6             35.0\n",
              "4           81.0           81.0  ...              0.8             32.5\n",
              "5           82.0           82.0  ...              0.7             33.6\n",
              "6           82.0           82.0  ...              1.0             31.5\n",
              "7           80.0           80.0  ...              0.9             30.1\n",
              "8           78.0           78.0  ...              0.8             32.6\n",
              "9           17.0           17.0  ...              0.8             26.9\n",
              "10          82.0           82.0  ...              0.5             30.4\n",
              "11          82.0           82.0  ...              0.5             29.6\n",
              "12          82.0           82.0  ...              0.5             28.7\n",
              "13          60.0           53.0  ...              0.4             22.9\n",
              "14          82.0           67.0  ...              0.5             20.0\n",
              "\n",
              "[15 rows x 11 columns]"
            ]
          },
          "metadata": {
            "tags": []
          }
        }
      ]
    },
    {
      "cell_type": "markdown",
      "metadata": {
        "id": "DhJWl4BE8-C3"
      },
      "source": [
        "## Before storing the newly-scraped data, below is a quick visual check of how Michael Jordan performed over the years in terms of points per game:"
      ]
    },
    {
      "cell_type": "code",
      "metadata": {
        "id": "e7SDXMeos_zr"
      },
      "source": [
        "# Import the plotting and visualization libraries under Matplotlib and IPython:\n",
        "\n",
        "import matplotlib.pyplot as plt\n",
        "from IPython.display import display"
      ],
      "execution_count": 19,
      "outputs": []
    },
    {
      "cell_type": "code",
      "metadata": {
        "id": "UsFNPk9tTs1k",
        "colab": {
          "base_uri": "https://localhost:8080/",
          "height": 330
        },
        "outputId": "df00d6c0-59e9-46d8-98ae-140d37cc1788"
      },
      "source": [
        "# Display an introductory sentence for the graph.\n",
        "print(\"Here is my graph of the stats for Michael Jordan: \")\n",
        "# Set which column is for the y-axis. The default is for the Years to be the x-axis because this is the way the dataframe is organized.\n",
        "plt.plot(mjdf[['Points per game']], label = 'Michael Jordan')\n",
        "# Print a legend for the graph.\n",
        "plt.legend()\n",
        "# Print a title for the graph.\n",
        "plt.title(\"Points per Game vs. Years for Michael Jordan\")\n",
        "# Set the label for the x-axis.\n",
        "plt.xlabel('years')\n",
        "# Set the label for the y-axis.\n",
        "plt.ylabel('Points per Game')\n"
      ],
      "execution_count": 20,
      "outputs": [
        {
          "output_type": "stream",
          "text": [
            "Here is my graph of the stats for Michael Jordan: \n"
          ],
          "name": "stdout"
        },
        {
          "output_type": "execute_result",
          "data": {
            "text/plain": [
              "Text(0, 0.5, 'Points per Game')"
            ]
          },
          "metadata": {
            "tags": []
          },
          "execution_count": 20
        },
        {
          "output_type": "display_data",
          "data": {
            "image/png": "[encoded data removed]",
            "text/plain": [
              "<Figure size 432x288 with 1 Axes>"
            ]
          },
          "metadata": {
            "tags": [],
            "needs_background": "light"
          }
        }
      ]
    },
    {
      "cell_type": "markdown",
      "metadata": {
        "id": "3Fy5ArjQp9qA"
      },
      "source": [
        "**Important:** Please note that as Michael Jordan's data has an entry for the '0' year as 28 points per game, it is presumed that the '0' year for Michael Jordan was actually his first year of playing basketball."
      ]
    },
    {
      "cell_type": "markdown",
      "metadata": {
        "id": "6qXCQxbMBYJG"
      },
      "source": [
        "Here are some simple observations from the graph above:\n",
        "\n",
        "**Highest**: The highest scoring season was 37.5 points per game during his third year of playing basketball. \n",
        "\n",
        "**Lowest**: The lowest-scoring year was an average of 20 points per game during his last (fifteenth) season. \n",
        "\n",
        "**Trend over time**: Michael Jordan's average gradually decreased over time after his third year. \n",
        "\n",
        " "
      ]
    },
    {
      "cell_type": "code",
      "metadata": {
        "id": "jWPYOKTbWueL"
      },
      "source": [
        "# After checking the Michael Jordan data, store the newly-scraped data into a .csv file:\n",
        "\n",
        "# Create an object for the string path to the first .csv file.\n",
        "csv_name = \"MJ1.csv\"  \n",
        "\n",
        "# Use the 'to_csv()' method to translate dataframe into a .csv file.\n",
        "# Since this notebook is in Google Colab, the file will be created within the runtime working directory.\n",
        "mjdf.to_csv(csv_name)  \n"
      ],
      "execution_count": 21,
      "outputs": []
    },
    {
      "cell_type": "markdown",
      "metadata": {
        "id": "H_YPoPeq4wJt"
      },
      "source": [
        "# Storing the new data for each of the rest of the players from the assignment:"
      ]
    },
    {
      "cell_type": "code",
      "metadata": {
        "id": "tbqHNPGJtehN"
      },
      "source": [
        "# Do the same for the data files for each of the other players:\n",
        "csv1_name = \"KB1.csv\"\n",
        "kbdf.to_csv(csv1_name)"
      ],
      "execution_count": 22,
      "outputs": []
    },
    {
      "cell_type": "code",
      "metadata": {
        "id": "5ezEwADi7Q1Y"
      },
      "source": [
        "csv2_name = \"LJ1.csv\"\n",
        "ljdf.to_csv(csv2_name)"
      ],
      "execution_count": 23,
      "outputs": []
    },
    {
      "cell_type": "code",
      "metadata": {
        "id": "tXsLPzIy7hLV"
      },
      "source": [
        "csv3_name = \"MC1.csv\"\n",
        "mcdf.to_csv(csv3_name)"
      ],
      "execution_count": 24,
      "outputs": []
    },
    {
      "cell_type": "markdown",
      "metadata": {
        "id": "EvEpABSh8Jml"
      },
      "source": [
        "## Here is a screen shot below illustrating where all four (4) data files were stored using the code shown in this notebook. \n",
        "\n",
        "Look on the left: Google Colab stored each of our dataframe `csv` files for us."
      ]
    },
    {
      "cell_type": "markdown",
      "metadata": {
        "id": "XeUIV0gh71sA"
      },
      "source": [
        "![Screen Shot 2020-09-06 at 3.40.10 PM.png](data:image/png;base64,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)"
      ]
    },
    {
      "cell_type": "markdown",
      "metadata": {
        "id": "ZjFGsKUu_cOY"
      },
      "source": [
        "\n",
        "\n",
        "---\n",
        "\n",
        "\n",
        "\n",
        "---\n",
        "\n"
      ]
    },
    {
      "cell_type": "markdown",
      "metadata": {
        "id": "5GKLvgAA_f_L"
      },
      "source": [
        "# Here is the visual representation of the Kobe Bryant data:"
      ]
    },
    {
      "cell_type": "code",
      "metadata": {
        "id": "ssz_oTKf70J-",
        "colab": {
          "base_uri": "https://localhost:8080/",
          "height": 312
        },
        "outputId": "f11f3503-ec75-416a-bd81-7530c058f141"
      },
      "source": [
        "plt.plot(kbdf[['Points per game']], label = 'Kobe Bryant')\n",
        "plt.legend()\n",
        "plt.title(\"Points per Game vs. Years for Kobe Bryant\")\n",
        "plt.xlabel('years')\n",
        "plt.ylabel('Points per Game')"
      ],
      "execution_count": null,
      "outputs": [
        {
          "output_type": "execute_result",
          "data": {
            "text/plain": [
              "Text(0, 0.5, 'Points per Game')"
            ]
          },
          "metadata": {
            "tags": []
          },
          "execution_count": 45
        },
        {
          "output_type": "display_data",
          "data": {
            "image/png": "[encoded data removed]",
            "text/plain": [
              "<Figure size 432x288 with 1 Axes>"
            ]
          },
          "metadata": {
            "tags": [],
            "needs_background": "light"
          }
        }
      ]
    },
    {
      "cell_type": "markdown",
      "metadata": {
        "id": "r9fD6h5XoY_M"
      },
      "source": [
        "**Important:** Please note that as Michael Jordan's data had an entry for the '0' year as 28 points per game, it was presumed that the '0' year for Michael Jordan was actually his first year of playing basketball.\n",
        "\n",
        "To maintain consistency with the rest of this analysis, it is necessary to continue to assume that the '0' year is the player's first year of playing. Here, it seems that Kobe Bryant did not have an average his first year, or perhaps that there is missing data for the first year. Maybe he was contracted and on the roster, but for whatever reason did not play that year. \n"
      ]
    },
    {
      "cell_type": "markdown",
      "metadata": {
        "id": "mk8xmEXWuOsj"
      },
      "source": [
        "Here are some simple conclusions:\n",
        "\n",
        "**Highest**: The highest scoring season was 35 points per game during Kobe's ninth year of playing basketball. \n",
        "\n",
        "**Lowest**: The equally lowest-scoring years (not counting the first year at 0 points) was an average of 15 points per game during both his first and seventeenth seasons. \n",
        "\n",
        "**Trend over time**: Kobe's average has a couple of drastic fluctuations, but excluding these, his average points per game seems to be realtively consistent between 20-30 points per game over the course of his entire career. "
      ]
    },
    {
      "cell_type": "markdown",
      "metadata": {
        "id": "da-_WukB_qXO"
      },
      "source": [
        "# Here is the visual representation of the LeBron James data:"
      ]
    },
    {
      "cell_type": "code",
      "metadata": {
        "id": "diQKCcS-_t-F",
        "colab": {
          "base_uri": "https://localhost:8080/",
          "height": 312
        },
        "outputId": "98fb194d-cccd-4734-cbd2-0781c734c18d"
      },
      "source": [
        "plt.plot(ljdf[['Points per game']], label = 'LeBron James')\n",
        "plt.legend()\n",
        "plt.title(\"Points per Game vs. Years for LeBron James\")\n",
        "plt.xlabel('years')\n",
        "plt.ylabel('Points per Game')"
      ],
      "execution_count": 25,
      "outputs": [
        {
          "output_type": "execute_result",
          "data": {
            "text/plain": [
              "Text(0, 0.5, 'Points per Game')"
            ]
          },
          "metadata": {
            "tags": []
          },
          "execution_count": 25
        },
        {
          "output_type": "display_data",
          "data": {
            "image/png": "[encoded data removed]",
            "text/plain": [
              "<Figure size 432x288 with 1 Axes>"
            ]
          },
          "metadata": {
            "tags": [],
            "needs_background": "light"
          }
        }
      ]
    },
    {
      "cell_type": "markdown",
      "metadata": {
        "id": "0XcmHGXQrQCH"
      },
      "source": [
        "Here are a few simple conclusions:\n",
        "\n",
        "Highest-scoring year: 3rd year at roughly 31 points per game\n",
        "\n",
        "Lowest-scoring year: 25 points per game during 3 years of playing during his 12th, 13th, and 17th years (again counting the '0' year as the first, and excluding it as the lowest because this data point needs more information)\n",
        "\n",
        "Trend over time: Compared to the other players, LeBron James seems to have been more consistent of a player over the entire course of his basketball career in that:\n",
        "\n",
        "1) There aren't any drastic increases or decreases (except for at the very beginning of his career), and;\n",
        "\n",
        "2) The range within most of the activity of the line graph is roughly between 26 and 30, which is higher than where Kobe had the most consistent activity in the graph of his data. "
      ]
    },
    {
      "cell_type": "markdown",
      "metadata": {
        "id": "NXSgP4RO_u-C"
      },
      "source": [
        "# Here is the visual representation of the Michael Curry data:"
      ]
    },
    {
      "cell_type": "code",
      "metadata": {
        "id": "4oDvZbrXAHze",
        "colab": {
          "base_uri": "https://localhost:8080/",
          "height": 312
        },
        "outputId": "64e67d96-9536-4ae3-e387-70b3565d0200"
      },
      "source": [
        "plt.plot(mcdf[['Points per game']], label = 'Michael Curry')\n",
        "plt.legend()\n",
        "plt.title(\"Points per Game vs. Years for Michael Curry\")\n",
        "plt.xlabel('years')\n",
        "plt.ylabel('Points per Game')"
      ],
      "execution_count": null,
      "outputs": [
        {
          "output_type": "execute_result",
          "data": {
            "text/plain": [
              "Text(0, 0.5, 'Points per Game')"
            ]
          },
          "metadata": {
            "tags": []
          },
          "execution_count": 47
        },
        {
          "output_type": "display_data",
          "data": {
            "image/png": "[encoded data removed]",
            "text/plain": [
              "<Figure size 432x288 with 1 Axes>"
            ]
          },
          "metadata": {
            "tags": [],
            "needs_background": "light"
          }
        }
      ]
    },
    {
      "cell_type": "markdown",
      "metadata": {
        "id": "jseJg1n0rRSz"
      },
      "source": [
        "Here are a few simple observations:\n",
        "\n",
        "Highest-scoring year: 7th year at roughly 30 points per game\n",
        "\n",
        "Lowest-scoring year: 3rd year at roughly 14 points per game\n",
        "\n",
        "Trend over time: Michael Curry has an overall increase over time, but just by looking at the graph, it would seem that he was a bit more inconsistent with some large highs and lows. However, one cannot conclude this because the number of years he played is less, and hence the data comparison may not be entirely comparable. "
      ]
    },
    {
      "cell_type": "code",
      "metadata": {
        "id": "i2g9dsPsBFzq"
      },
      "source": [
        ""
      ],
      "execution_count": null,
      "outputs": []
    }
  ]
}